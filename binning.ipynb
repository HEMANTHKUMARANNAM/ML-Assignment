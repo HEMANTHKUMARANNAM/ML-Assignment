{
 "cells": [
  {
   "cell_type": "code",
   "execution_count": 6,
   "metadata": {},
   "outputs": [],
   "source": [
    "import numpy as np \n",
    "import pandas as pd\n",
    "\n",
    "a = [[2, 6, 8, 14, 16], [22, 26, 30, 34, 36], [44, 46, 52, 54, 58]]\n",
    "b = np.zeros(15) "
   ]
  },
  {
   "cell_type": "code",
   "execution_count": 7,
   "metadata": {},
   "outputs": [
    {
     "name": "stdout",
     "output_type": "stream",
     "text": [
      "After Data Extract:\n",
      "                    \n",
      "   2   6   8  14  16\n",
      "  22  26  30  34  36\n",
      "  44  46  52  54  58 \n",
      "\n"
     ]
    }
   ],
   "source": [
    "ad=pd.DataFrame(a)\n",
    "blankIndex=[''] * len(ad)\n",
    "ad.index=blankIndex\n",
    "blankIndex=['']*5\n",
    "ad.columns=blankIndex\n",
    "print(\"After Data Extract:\")\n",
    "print(ad,\"\\n\")\n",
    "k=0\n",
    "# take 1st column among 4 column of data set \n",
    "for i in range (3): \n",
    "    for j in range(0,5,1):\n",
    "        b[k]=a[i][j] \n",
    "        k=k+1\n",
    "\n",
    "b=np.sort(b) #sort the array \n",
    "# create bins \n",
    "bin1=np.zeros((3,5)) \n",
    "bin2=np.zeros((3,5)) \n",
    "bin3=np.zeros((3,5)) "
   ]
  },
  {
   "cell_type": "code",
   "execution_count": 8,
   "metadata": {},
   "outputs": [
    {
     "name": "stdout",
     "output_type": "stream",
     "text": [
      "Bin Mean:                                \n",
      "   9.2   9.2   9.2   9.2   9.2\n",
      "  29.6  29.6  29.6  29.6  29.6\n",
      "  50.8  50.8  50.8  50.8  50.8 \n",
      "\n"
     ]
    }
   ],
   "source": [
    "# Bin mean \n",
    "for i in range (0,15,5): \n",
    "\tk=int(i/5) \n",
    "\tmean=(b[i] + b[i+1] + b[i+2] + b[i+3] + b[i+4])/5\n",
    "\tfor j in range(5): \n",
    "\t\tbin1[k,j]=mean\n",
    "df=pd.DataFrame(bin1)\n",
    "blankIndex=[''] * len(df)\n",
    "df.index=blankIndex\n",
    "blankIndex=['']*5\n",
    "df.columns=blankIndex\n",
    "print(\"Bin Mean: \",df,\"\\n\") "
   ]
  },
  {
   "cell_type": "code",
   "execution_count": 9,
   "metadata": {},
   "outputs": [
    {
     "name": "stdout",
     "output_type": "stream",
     "text": [
      "Bin Boundaries:                                \n",
      "   2.0   2.0   2.0  16.0  16.0\n",
      "  22.0  22.0  36.0  36.0  36.0\n",
      "  44.0  44.0  58.0  58.0  58.0 \n",
      "\n"
     ]
    }
   ],
   "source": [
    "# Bin boundaries \n",
    "for i in range (0,15,5): \n",
    "\tk=int(i/5) \n",
    "\tfor j in range (5): \n",
    "\t\tif (b[i+j]-b[i]) < (b[i+4]-b[i+j]): \n",
    "\t\t\tbin2[k,j]=b[i] \n",
    "\t\telse: \n",
    "\t\t\tbin2[k,j]=b[i+4]\t\n",
    "df=pd.DataFrame(bin2)\n",
    "blankIndex=[''] * len(df)\n",
    "df.index=blankIndex\n",
    "blankIndex=['']*5\n",
    "df.columns=blankIndex\n",
    "print(\"Bin Boundaries: \",df,\"\\n\")"
   ]
  },
  {
   "cell_type": "code",
   "execution_count": 10,
   "metadata": {},
   "outputs": [
    {
     "name": "stdout",
     "output_type": "stream",
     "text": [
      "Bin Median:                                \n",
      "   8.0   8.0   8.0   8.0   8.0\n",
      "  30.0  30.0  30.0  30.0  30.0\n",
      "  52.0  52.0  52.0  52.0  52.0 \n",
      "\n"
     ]
    }
   ],
   "source": [
    "# Bin median \n",
    "for i in range (0,15,5): \n",
    "\tk=int(i/5) \n",
    "\tfor j in range (5): \n",
    "\t\tbin3[k,j]=b[i+2] \n",
    "df=pd.DataFrame(bin3)\n",
    "blankIndex=[''] * len(df)\n",
    "df.index=blankIndex\n",
    "blankIndex=['']*5\n",
    "df.columns=blankIndex\n",
    "print(\"Bin Median: \",df,\"\\n\")"
   ]
  }
 ],
 "metadata": {
  "kernelspec": {
   "display_name": "Python 3",
   "language": "python",
   "name": "python3"
  },
  "language_info": {
   "codemirror_mode": {
    "name": "ipython",
    "version": 3
   },
   "file_extension": ".py",
   "mimetype": "text/x-python",
   "name": "python",
   "nbconvert_exporter": "python",
   "pygments_lexer": "ipython3",
   "version": "3.12.0"
  }
 },
 "nbformat": 4,
 "nbformat_minor": 2
}
