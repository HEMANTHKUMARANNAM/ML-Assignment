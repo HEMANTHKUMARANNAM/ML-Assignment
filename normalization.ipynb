{
 "cells": [
  {
   "cell_type": "code",
   "execution_count": 1,
   "metadata": {},
   "outputs": [],
   "source": [
    "import numpy as np\n",
    "def normalize(x):\n",
    "    min = np.min(x)\n",
    "    max = np.max(x)\n",
    "    range = max - min\n",
    "    return [(a - min) / range for a in x]\n",
    "x = [75000, 222222, 122223, 1611111]\n",
    "normalizedX = normalize(x)"
   ]
  },
  {
   "cell_type": "code",
   "execution_count": 2,
   "metadata": {},
   "outputs": [
    {
     "data": {
      "text/plain": [
       "[0.0, 0.09584073025972732, 0.0307419190410068, 1.0]"
      ]
     },
     "execution_count": 2,
     "metadata": {},
     "output_type": "execute_result"
    }
   ],
   "source": [
    "normalizedX"
   ]
  },
  {
   "cell_type": "code",
   "execution_count": 3,
   "metadata": {},
   "outputs": [
    {
     "name": "stdout",
     "output_type": "stream",
     "text": [
      "[-1.66966504 -0.88394032 -0.68750913 -0.68750913 -0.68750913 -0.49107795\n",
      " -0.29464677  0.68750913  0.88394032  0.88394032  1.0803715   1.86609622]\n"
     ]
    }
   ],
   "source": [
    "# Calculate the z-score from with scipy\n",
    "import scipy.stats as stats\n",
    "values = [3, 7, 8, 8, 8, 9, 10, 15, 16, 16, 17, 21]\n",
    "\n",
    "\n",
    "zscores = stats.zscore(values)\n",
    "print(zscores)"
   ]
  }
 ],
 "metadata": {
  "kernelspec": {
   "display_name": "Python 3",
   "language": "python",
   "name": "python3"
  },
  "language_info": {
   "codemirror_mode": {
    "name": "ipython",
    "version": 3
   },
   "file_extension": ".py",
   "mimetype": "text/x-python",
   "name": "python",
   "nbconvert_exporter": "python",
   "pygments_lexer": "ipython3",
   "version": "3.12.0"
  }
 },
 "nbformat": 4,
 "nbformat_minor": 2
}
